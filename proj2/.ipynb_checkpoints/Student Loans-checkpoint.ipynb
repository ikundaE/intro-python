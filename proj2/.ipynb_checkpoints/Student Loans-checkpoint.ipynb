{
 "cells": [
  {
   "cell_type": "markdown",
   "metadata": {},
   "source": [
    "# Enoch Ikunda\n",
    "### COS 184 fall 2020"
   ]
  },
  {
   "cell_type": "markdown",
   "metadata": {},
   "source": [
    "## Program 2: Student Loans (20 points)"
   ]
  },
  {
   "cell_type": "markdown",
   "metadata": {},
   "source": [
    "This program is a <I>financial simulation</I>: it calculates total student debt and the term and monthly payments on that debt, post-graduation. Debt calculations are based on USM estimated expenses for tuition, books, fees and supplies and for room and board (https://usm.maine.edu/student-financial-services/estimated-cost-attendance-one-year). Only one loan program is considered: the Federal William D. Ford Direct PLUS Loan program (https://studentaid.ed.gov/sa/types/loans/plus). This program is for parents and graduate students. It was chosen for this assignment because the other available federal loan programs (Subsidized/Unsubsidized) have limits on the size of the loan, per semester. All expense estimates and program rules are correct as of fall 2020.\n",
    "\n",
    "This assignment assumes that you graduate in four years and don't attend school or work over the summer -- and that you take the summer after graduation off. No provision is made for estimating the impact of debt reduction through other sources of support (work, savings, parent contributions, scholarships, etc.). No provision is made for estimating additional debt (cost of commuting, meals, summer and winter programs, etc.).  Please note that <u>this assignment should not be used as a substitute for a certified payment calculator</u>.\n",
    "\n",
    "Note: this is a long, complex and demanding program. Take it one step at a time, and congratulate yourself when you get it done!"
   ]
  },
  {
   "cell_type": "code",
   "execution_count": 2,
   "metadata": {},
   "outputs": [],
   "source": [
    "# Don't change this cell. \n",
    "# Constants from USM\n",
    "SEMESTER_TUITION_FEES_IN_STATE = 9900 / 2        # from USM\n",
    "SEMESTER_TUITION_FEES_OUT_OF_STATE = 23640 / 2   # from USM\n",
    "SEMESTER_BOOKS = 600 / 2                         # from USM\n",
    "SEMESTER_ROOM_BOARD = 9826 / 2                   # from USM\n",
    "# Program variables\n",
    "semester_Total_Tuition_Fees = -1                 # invalid value: will be positive int\n",
    "semester_Total_Expenses = -1                     # invalid value: will be positive int\n",
    "in_state = None                                  # invalid value: will be True/False\n",
    "in_dorms = None                                  # invalid value: will be True/False"
   ]
  },
  {
   "cell_type": "markdown",
   "metadata": {},
   "source": [
    "Begin by asking the user if they are in-state ('y') or not in-state ('n'). Set the variable <code>in_state</code> to <code>True</code> if they are an in-state student and to <code>False</code> if they are not."
   ]
  },
  {
   "cell_type": "code",
   "execution_count": null,
   "metadata": {},
   "outputs": [],
   "source": [
    "# Your code to set in_state goes here.\n",
    "\n",
    "if input(\"Are you an in-state student?[Please answer 'y' or 'n']: \") == 'y':\n",
    "    in_state = True\n",
    "else:\n",
    "    in_state = False\n",
    "print (in_state)"
   ]
  },
  {
   "cell_type": "code",
   "execution_count": null,
   "metadata": {},
   "outputs": [],
   "source": [
    "# Code check block - don't change this cell.\n",
    "assert type(in_state).__name__ != 'NoneType' and isinstance(in_state, bool)"
   ]
  },
  {
   "cell_type": "markdown",
   "metadata": {},
   "source": [
    "Now ask the user if they will reside in the dormitories ('y') or not ('n'). Set the variable <code>in_dorms</code> to <code>False</code> if they are not staying in the dorms and to <code>True</code> if they will be staying in the dormitories."
   ]
  },
  {
   "cell_type": "code",
   "execution_count": null,
   "metadata": {},
   "outputs": [],
   "source": [
    "# Your code to set in_dorms goes here.\n",
    "if input(\"will you reside in the dormitories?[Please answer 'y' or 'n']: \") == 'y':\n",
    "    in_dorms = True\n",
    "else:\n",
    "    in_dorms = False\n",
    "print (in_dorms)"
   ]
  },
  {
   "cell_type": "markdown",
   "metadata": {},
   "source": [
    "Now print a line to the user summarizing their choices. The line should look like\n",
    "\"You said that you were an in-state student who will be living in the dormitories.\" Also set the variables <code>semester_Total_Tuition_Fees</code> and <code>semester_Total_Expenses</code> in a manner consistent with the current settings of <code>in_state</code> and <code>in_dorms</code>. Also use the constants from USM, whose values were set in a previous cell."
   ]
  },
  {
   "cell_type": "code",
   "execution_count": null,
   "metadata": {},
   "outputs": [],
   "source": [
    "# Code check block - don't change this cell.\n",
    "assert type(in_dorms).__name__ != 'NoneType' and isinstance(in_dorms, bool)"
   ]
  },
  {
   "cell_type": "code",
   "execution_count": null,
   "metadata": {},
   "outputs": [],
   "source": [
    "# Your code to print the summary line goes here.\n",
    "if in_state :\n",
    "    s = \"You said that you were an in-state student\"\n",
    "else : \n",
    "    s = \"You said that you were an out-of-state student\"\n",
    "if in_dorms :\n",
    "    s1 = \"who will be living in the dormitories.\"\n",
    "else : \n",
    "    s1 = \"who will not be living in the dormitories.\"\n",
    "print(s +\" \"+ s1)\n",
    "# Your code to set the variables semesterTotalTuition and semesterTotalExpenses (which includes books) goes here.\n",
    "print(SEMESTER_TUITION_FEES_IN_STATE)\n",
    "if in_state : \n",
    "    semester_Total_Tuition_Fees = SEMESTER_TUITION_FEES_IN_STATE \n",
    "else :\n",
    "    semester_Total_Tuition_Fees = SEMESTER_TUITION_FEES_OUT_OF_STATE\n",
    "if in_dorms:\n",
    "    semester_Total_Expenses = SEMESTER_ROOM_BOARD + SEMESTER_BOOKS\n",
    "else:\n",
    "    semester_Total_Expenses =  SEMESTER_BOOKS"
   ]
  },
  {
   "cell_type": "code",
   "execution_count": null,
   "metadata": {},
   "outputs": [],
   "source": [
    "# code check block - don't change this cell.\n",
    "assert (in_state and semester_Total_Tuition_Fees == SEMESTER_TUITION_FEES_IN_STATE or\n",
    "        not in_state and semester_Total_Tuition_Fees == SEMESTER_TUITION_FEES_OUT_OF_STATE)\n",
    "assert (in_dorms and semester_Total_Expenses == SEMESTER_ROOM_BOARD + SEMESTER_BOOKS or\n",
    "        not in_dorms and semester_Total_Expenses == SEMESTER_BOOKS)"
   ]
  },
  {
   "cell_type": "code",
   "execution_count": null,
   "metadata": {},
   "outputs": [],
   "source": [
    "# Don't change this cell.\n",
    "s = \"Your yearly expenses while in school will be ${0:,.2f} for tuition and fees\"\n",
    "s += \" and ${1:,.2f} for books, room and board.\"\n",
    "print(s.format(2 * semester_Total_Tuition_Fees, 2 * semester_Total_Expenses))  \n",
    "semester_total = semester_Total_Tuition_Fees + semester_Total_Expenses\n",
    "print (\"your total semester expected spendings are: \", semester_total)"
   ]
  },
  {
   "cell_type": "markdown",
   "metadata": {},
   "source": [
    "At this point in the running of the program, the variables <code>semester_Total_Expenses</code> and <code>semester_Total_Tuition_Fees</code> have valid values. It turns out that we only need to know the total cash needs for a semester. Let's call this <code>total_cash_semester</code>. Compute that in the following cell."
   ]
  },
  {
   "cell_type": "code",
   "execution_count": null,
   "metadata": {},
   "outputs": [],
   "source": [
    "# fill in the expression for total cash needs at the start of each semester:\n",
    "total_cash_semester = semester_Total_Expenses + semester_Total_Tuition_Fees"
   ]
  },
  {
   "cell_type": "markdown",
   "metadata": {},
   "source": [
    "Now we have to spend a moment on how the Federal Direct PLUS Loan program works. This is a program for parents, and they have to repay the loan. Interest on the debt accumulates monthly at a rate of 0.5709% of the current balance of the loan. Each time you ask the program to loan you money, you actually get the amount you request minus 4.236%. In practice, then, if you want 5000 dollars for a semester's total expenses, you have to ask for $5000 /(1 - 0.04236) = $5221."
   ]
  },
  {
   "cell_type": "code",
   "execution_count": null,
   "metadata": {},
   "outputs": [],
   "source": [
    "# Don't change this cell.\n",
    "REQUEST_FEE = 0.04236     # percentage of loan amount due to lender for each mini-loan.\n",
    "MONTHLY_FEE = 0.005709  # interest charged monthly, from Federal program"
   ]
  },
  {
   "cell_type": "markdown",
   "metadata": {},
   "source": [
    "Now we're ready to start computing debt (represent it by the value of the variable <code>debt</code>). Model your four years at college as four three-semester (fall, spring, summer) years. We assume that you'll be deferring your payments on your debt until you start work in the fall after you graduate. For the fall and spring semesters you'll need to ask the loan program for money for one semester's tuition, fees, books and supplies. If you're a resident, you'll need to ask the loan program for money for one semester's room and board too. Each time you ask for money you incur the request fee, and for each month that you have debt the debt will grow by the monthly rate. "
   ]
  },
  {
   "cell_type": "code",
   "execution_count": null,
   "metadata": {},
   "outputs": [],
   "source": [
    "debt = 0  # this variable will accumulate your debt\n",
    "for i in range(4):  # four years\n",
    "    # Fall semester:\n",
    "    debt += total_cash_semester / (1 - REQUEST_FEE)  # new loan request\n",
    "    for j in range(4):  # four months\n",
    "        debt += debt * MONTHLY_FEE  # one month's interest\n",
    "        \n",
    "    # Your code for the spring semester goes here.\n",
    "    debt += total_cash_semester / (1 - REQUEST_FEE)  # new loan request\n",
    "    for j in range(4):  # four months\n",
    "        debt += debt * MONTHLY_FEE  # one month's interest\n",
    "    \n",
    "    # Your code for the summer goes here.\n",
    "    for j in range(4):  # four months\n",
    "        debt += debt * MONTHLY_FEE # one month's interest\n",
    "    \n",
    "print(\"Upon starting work, your total debt is ${0:,.2f}.\".format(debt))"
   ]
  },
  {
   "cell_type": "markdown",
   "metadata": {},
   "source": [
    "Now we have to figure out what the repayment period is for your loan. This comes from the Federal Direct PLUS Loan program. \n",
    "<table>\n",
    "   <tr><th>Loan of at least</th> <th>and less than</th> <th>Term</th></tr>\n",
    "   <tr><th></th> <th>7,500</th> <th>10 years</th></tr>\n",
    "   <tr><th>7,500</th> <th>10,000</th> <th>12 years</th></tr>\n",
    "   <tr><th>10,000</th> <th>20,000</th> <th>15 years</th></tr>\n",
    "   <tr><th>20,000</th> <th>40,000</th> <th>20 years</th></tr>\n",
    "   <tr><th>40,000</th> <th>60,000</th> <th>25 years</th></tr>\n",
    "   <tr><th>60,000</th> <th></th> <th>30 years</th></tr>\n",
    "</table>\n",
    "Set the variable <code>term</code> according to the variable <code>debt</code> and the table."
   ]
  },
  {
   "cell_type": "code",
   "execution_count": null,
   "metadata": {},
   "outputs": [],
   "source": [
    "# Your code to select the loan term goes here.\n",
    "term = int (debt/750)\n",
    "if debt < 7500:\n",
    "    term = 10\n",
    "elif 7500 < debt < 10000:\n",
    "    term = 12\n",
    "elif 10000 < debt < 20000:\n",
    "    term = 15\n",
    "elif 20000 < debt < 40000:\n",
    "    term = 20\n",
    "elif 40000 < debt < 60000:\n",
    "    term = 25\n",
    "else :\n",
    "    term = 30"
   ]
  },
  {
   "cell_type": "code",
   "execution_count": null,
   "metadata": {},
   "outputs": [],
   "source": [
    "# Code check block - don't change this cell.\n",
    "assert isinstance(term, int) and 10 <= term <= 30"
   ]
  },
  {
   "cell_type": "code",
   "execution_count": null,
   "metadata": {},
   "outputs": [],
   "source": [
    "# Don't change this cell.\n",
    "s = \"The term of your loan is {0} years.\"\n",
    "print(s.format(term))"
   ]
  },
  {
   "cell_type": "markdown",
   "metadata": {},
   "source": [
    "Now for some fancy math - see https://en.wikipedia.org/wiki/Compound_interest. The equation for the monthly payment <i>P</i> is:\n",
    "\\begin{equation*}\n",
    "P = \\frac{Di}{1-e^{-n ln(1+i)}}\n",
    "\\end{equation*}\n",
    "In this equation, <i>D</i> is the total debt; <i>i</i> is the monthly interest rate and <i>n</i> is the number of months (12 times the term)."
   ]
  },
  {
   "cell_type": "code",
   "execution_count": null,
   "metadata": {},
   "outputs": [],
   "source": [
    "# Don't change this cell.\n",
    "from math import exp, log\n",
    "monthly_payment = (debt * MONTHLY_FEE) / (1 - exp(-(12 * term) * log(1 + MONTHLY_FEE)))\n",
    "s = \"Your monthly payment will be ${0:,.2f}.\"\n",
    "print(s.format(monthly_payment))\n",
    "s = \"In {0} years, the total of all of your payments will be ${1:,.2f}.\"\n",
    "print(s.format(term, monthly_payment * 12 * term))"
   ]
  },
  {
   "cell_type": "markdown",
   "metadata": {},
   "source": [
    "### Extra credit (5 points)\n",
    "Modify the program to answer any one of the following questions:\n",
    "<ol>\n",
    "   <li>Which reduces your debt the most: applying savings and parent contributions to your first-year tuition and room and board, or waiting until your last semester in school? Is it a big effect?\n",
    "   <li>Suppose you could clear \\$2000 from summer work. Would this have a big or small effect on your debt? What if you could only work two summers? Would it be better to work the summers of your freshman and sophomore years, or the summers of your junior and senior years?"
   ]
  },
  {
   "cell_type": "code",
   "execution_count": null,
   "metadata": {},
   "outputs": [],
   "source": [
    "debt = 0  # this variable will accumulate your debt\n",
    "savings = 4500\n",
    "debt = debt - savings\n",
    "for i in range(3):  # four years\n",
    "    # Fall semester:\n",
    "    debt += total_cash_semester / (1 - REQUEST_FEE)  # new loan request\n",
    "    for j in range(4):  # four months\n",
    "        debt += debt * MONTHLY_FEE  # one month's interest\n",
    "        \n",
    "    # Your code for the spring semester goes here.\n",
    "    debt += total_cash_semester / (1 - REQUEST_FEE)  # new loan request\n",
    "    for j in range(4):  # four months\n",
    "        debt += debt * MONTHLY_FEE  # one month's interest\n",
    "    \n",
    "    # Your code for the summer goes here.\n",
    "    for j in range(4):  # four months\n",
    "        debt += debt * MONTHLY_FEE # one month's interest\n",
    "    \n",
    "print(\"Upon starting work, your total debt is ${0:,.2f}.\".format(debt))\n",
    "\n",
    "# Your code to select the loan term goes here.\n",
    "term = int (debt/750)\n",
    "if debt < 7500:\n",
    "    term = 10\n",
    "elif 7500 < debt < 10000:\n",
    "    term = 12\n",
    "elif 10000 < debt < 20000:\n",
    "    term = 15\n",
    "elif 20000 < debt < 40000:\n",
    "    term = 20\n",
    "elif 40000 < debt < 60000:\n",
    "    term = 25\n",
    "else :\n",
    "    term = 30\n",
    "\n",
    "# Don't change this cell.\n",
    "s = \"The term of your loan is {0} years.\"\n",
    "print(s.format(term))\n",
    "\n",
    "# Don't change this cell.\n",
    "from math import exp, log\n",
    "monthly_payment = (debt * MONTHLY_FEE) / (1 - exp(-(12 * term) * log(1 + MONTHLY_FEE)))\n",
    "s = \"Your monthly payment will be ${0:,.2f}.\"\n",
    "print(s.format(monthly_payment))\n",
    "s = \"In {0} years, the total of all of your payments will be ${1:,.2f}.\"\n",
    "print(s.format(term, monthly_payment * 12 * term))\n",
    "\n",
    "print(\"If you apply your saving on the first year!!!!\")"
   ]
  },
  {
   "cell_type": "code",
   "execution_count": null,
   "metadata": {},
   "outputs": [],
   "source": [
    "debt = 0  # this variable will accumulate your debt\n",
    "savings = 4500\n",
    "\n",
    "for i in range(3):  # four years\n",
    "    # Fall semester:\n",
    "    debt += total_cash_semester / (1 - REQUEST_FEE)  # new loan request\n",
    "    for j in range(4):  # four months\n",
    "        debt += debt * MONTHLY_FEE  # one month's interest\n",
    "        \n",
    "    # Your code for the spring semester goes here.\n",
    "    debt += total_cash_semester / (1 - REQUEST_FEE)  # new loan request\n",
    "    for j in range(4):  # four months\n",
    "        debt += debt * MONTHLY_FEE  # one month's interest\n",
    "    \n",
    "    # Your code for the summer goes here.\n",
    "    for j in range(4):  # four months\n",
    "        debt += debt * MONTHLY_FEE # one month's interest\n",
    "    \n",
    "print(\"Upon starting work, your total debt is ${0:,.2f}.\".format(debt))\n",
    "\n",
    "debt = debt - savings #If you apply the savings on your last year\n",
    "\n",
    "# Your code to select the loan term goes here.\n",
    "term = int (debt/750)\n",
    "if debt < 7500:\n",
    "    term = 10\n",
    "elif 7500 < debt < 10000:\n",
    "    term = 12\n",
    "elif 10000 < debt < 20000:\n",
    "    term = 15\n",
    "elif 20000 < debt < 40000:\n",
    "    term = 20\n",
    "elif 40000 < debt < 60000:\n",
    "    term = 25\n",
    "else :\n",
    "    term = 30\n",
    "\n",
    "# Don't change this cell.\n",
    "s = \"The term of your loan is {0} years.\"\n",
    "print(s.format(term))\n",
    "\n",
    "# Don't change this cell.\n",
    "from math import exp, log\n",
    "monthly_payment = (debt * MONTHLY_FEE) / (1 - exp(-(12 * term) * log(1 + MONTHLY_FEE)))\n",
    "s = \"Your monthly payment will be ${0:,.2f}.\"\n",
    "print(s.format(monthly_payment))\n",
    "s = \"In {0} years, the total of all of your payments will be ${1:,.2f}.\"\n",
    "print(s.format(term, monthly_payment * 12 * term))\n",
    "\n",
    "print(\"If you apply your saving on the last year!!!!\")"
   ]
  },
  {
   "cell_type": "code",
   "execution_count": null,
   "metadata": {},
   "outputs": [],
   "source": [
    "debt = 0  # this variable will accumulate your debt\n",
    "summer_job = 2000\n",
    "\n",
    "for i in range(4):  # four years\n",
    "    # Fall semester:\n",
    "    debt += total_cash_semester / (1 - REQUEST_FEE)  # new loan request\n",
    "    for j in range(4):  # four months\n",
    "        debt += debt * MONTHLY_FEE  # one month's interest\n",
    "        \n",
    "    # Your code for the spring semester goes here.\n",
    "    debt += total_cash_semester / (1 - REQUEST_FEE)  # new loan request\n",
    "    for j in range(4):  # four months\n",
    "        debt += debt * MONTHLY_FEE  # one month's interest\n",
    "    \n",
    "    # Your code for the summer goes here.\n",
    "    for j in range(4):  # four months\n",
    "        debt += debt * MONTHLY_FEE # one month's interest\n",
    "        deby = debt - summer_job\n",
    "    \n",
    "print(\"Upon starting work, your total debt is ${0:,.2f}.\".format(debt))\n",
    "\n",
    "debt = debt - savings #If you apply the savings on your last year\n",
    "\n",
    "# Your code to select the loan term goes here.\n",
    "term = int (debt/750)\n",
    "if debt < 7500:\n",
    "    term = 10\n",
    "elif 7500 < debt < 10000:\n",
    "    term = 12\n",
    "elif 10000 < debt < 20000:\n",
    "    term = 15\n",
    "elif 20000 < debt < 40000:\n",
    "    term = 20\n",
    "elif 40000 < debt < 60000:\n",
    "    term = 25\n",
    "else :\n",
    "    term = 30\n",
    "\n",
    "# Don't change this cell.\n",
    "s = \"The term of your loan is {0} years.\"\n",
    "print(s.format(term))\n",
    "\n",
    "# Don't change this cell.\n",
    "from math import exp, log\n",
    "monthly_payment = (debt * MONTHLY_FEE) / (1 - exp(-(12 * term) * log(1 + MONTHLY_FEE)))\n",
    "s = \"Your monthly payment will be ${0:,.2f}.\"\n",
    "print(s.format(monthly_payment))\n",
    "s = \"In {0} years, the total of all of your payments will be ${1:,.2f}.\"\n",
    "print(s.format(term, monthly_payment * 12 * term))\n",
    "\n",
    "print(\"If you apply your savings every summer!!!!\")"
   ]
  }
 ],
 "metadata": {
  "kernelspec": {
   "display_name": "Python 3",
   "language": "python",
   "name": "python3"
  },
  "language_info": {
   "codemirror_mode": {
    "name": "ipython",
    "version": 3
   },
   "file_extension": ".py",
   "mimetype": "text/x-python",
   "name": "python",
   "nbconvert_exporter": "python",
   "pygments_lexer": "ipython3",
   "version": "3.8.5"
  }
 },
 "nbformat": 4,
 "nbformat_minor": 1
}
