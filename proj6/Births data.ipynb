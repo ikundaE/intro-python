{
 "cells": [
  {
   "cell_type": "markdown",
   "metadata": {},
   "source": [
    "# Enoch Ikunda\n",
    "### COS 184 fall 2020"
   ]
  },
  {
   "cell_type": "markdown",
   "metadata": {},
   "source": [
    "## Program 6: Births data (20 points)"
   ]
  },
  {
   "cell_type": "markdown",
   "metadata": {},
   "source": [
    "This assignment allows us to do some real research into actual data. Lab 8 has already paved the way by showing how to read the data file, mark data as missing, and save a nice clean <code>DataFrame</code>. Lab 8 saved the clean data as a pickled <code>DataFrame</code> so we can just read it in (\"un-pickle it\") and get going."
   ]
  },
  {
   "cell_type": "code",
   "execution_count": 1,
   "metadata": {},
   "outputs": [],
   "source": [
    "# Don't change this cell.\n",
    "import pandas as pd, numpy as np\n",
    "DataIn = 'Births2006clean.pkl'\n",
    "DataOut = 'Births2006reduced.pkl'"
   ]
  },
  {
   "cell_type": "code",
   "execution_count": 2,
   "metadata": {},
   "outputs": [],
   "source": [
    "# Your code goes here, to read the pickled DataFrame and un-pickle it on the way.\n",
    "births = pd.read_pickle(DataIn)\n",
    "#births"
   ]
  },
  {
   "cell_type": "markdown",
   "metadata": {},
   "source": [
    "We're only going to be asking questions about birth weight, mother's age, gestation age and health assessment, so we can drop columns that don't relate to these questions. The code below will modify the old Dataframe by deleting columns, with only the columns <code>MAGER</code>, <code>APGAR5</code>, <code>ESTGEST</code> and <code>DBWT</code> remaining."
   ]
  },
  {
   "cell_type": "code",
   "execution_count": 3,
   "metadata": {},
   "outputs": [],
   "source": [
    "# Don't change this cell.\n",
    "colsDrop = ['DOB_MM', 'DOB_WK', 'TBO_REC', 'WTGAIN', 'SEX', 'DMEDUC', 'UPREVIS', 'DMETH_REC', 'DPLURAL']\n",
    "births.drop(labels=colsDrop, axis=1, inplace=True)  # drop columns -- inplace saves storage"
   ]
  },
  {
   "cell_type": "markdown",
   "metadata": {},
   "source": [
    "We need complete data in the columns <code>MAGER</code>, <code>APGAR5</code>, <code>ESTGEST</code> and <code>DBWT</code>. Let's drop every row of the data that has missing data in these columns. Do this by using the marvelous DataFrame method <code>dropna()</code>, described at https://pandas.pydata.org/pandas-docs/stable/reference/api/pandas.DataFrame.dropna.html. Again, modify the existing Dataframe by supplying this method with the argument <code>inplace=True</code>. Now you can see why we did all that work to mark every bit of missing data as <code>np.NaN</code>."
   ]
  },
  {
   "cell_type": "code",
   "execution_count": 4,
   "metadata": {},
   "outputs": [],
   "source": [
    "# Your code goes here to drop every row with NA data in any column.\n",
    "births.dropna(inplace=True)\n",
    "#births"
   ]
  },
  {
   "cell_type": "markdown",
   "metadata": {},
   "source": [
    "Now, since we have dropped some rows, the row index is no longer continuous. While we may not need the row numeric index right away, it's nicer to have it continuous. "
   ]
  },
  {
   "cell_type": "code",
   "execution_count": 5,
   "metadata": {},
   "outputs": [
    {
     "data": {
      "text/html": [
       "<div>\n",
       "<style scoped>\n",
       "    .dataframe tbody tr th:only-of-type {\n",
       "        vertical-align: middle;\n",
       "    }\n",
       "\n",
       "    .dataframe tbody tr th {\n",
       "        vertical-align: top;\n",
       "    }\n",
       "\n",
       "    .dataframe thead th {\n",
       "        text-align: right;\n",
       "    }\n",
       "</style>\n",
       "<table border=\"1\" class=\"dataframe\">\n",
       "  <thead>\n",
       "    <tr style=\"text-align: right;\">\n",
       "      <th></th>\n",
       "      <th>MAGER</th>\n",
       "      <th>APGAR5</th>\n",
       "      <th>ESTGEST</th>\n",
       "      <th>DBWT</th>\n",
       "    </tr>\n",
       "  </thead>\n",
       "  <tbody>\n",
       "    <tr>\n",
       "      <th>0</th>\n",
       "      <td>28.0</td>\n",
       "      <td>9.0</td>\n",
       "      <td>37.0</td>\n",
       "      <td>3625.0</td>\n",
       "    </tr>\n",
       "    <tr>\n",
       "      <th>1</th>\n",
       "      <td>18.0</td>\n",
       "      <td>9.0</td>\n",
       "      <td>38.0</td>\n",
       "      <td>3650.0</td>\n",
       "    </tr>\n",
       "    <tr>\n",
       "      <th>2</th>\n",
       "      <td>21.0</td>\n",
       "      <td>9.0</td>\n",
       "      <td>38.0</td>\n",
       "      <td>3045.0</td>\n",
       "    </tr>\n",
       "    <tr>\n",
       "      <th>3</th>\n",
       "      <td>25.0</td>\n",
       "      <td>10.0</td>\n",
       "      <td>40.0</td>\n",
       "      <td>3827.0</td>\n",
       "    </tr>\n",
       "    <tr>\n",
       "      <th>4</th>\n",
       "      <td>28.0</td>\n",
       "      <td>8.0</td>\n",
       "      <td>39.0</td>\n",
       "      <td>3090.0</td>\n",
       "    </tr>\n",
       "    <tr>\n",
       "      <th>...</th>\n",
       "      <td>...</td>\n",
       "      <td>...</td>\n",
       "      <td>...</td>\n",
       "      <td>...</td>\n",
       "    </tr>\n",
       "    <tr>\n",
       "      <th>367978</th>\n",
       "      <td>20.0</td>\n",
       "      <td>8.0</td>\n",
       "      <td>39.0</td>\n",
       "      <td>2187.0</td>\n",
       "    </tr>\n",
       "    <tr>\n",
       "      <th>367979</th>\n",
       "      <td>30.0</td>\n",
       "      <td>9.0</td>\n",
       "      <td>38.0</td>\n",
       "      <td>3210.0</td>\n",
       "    </tr>\n",
       "    <tr>\n",
       "      <th>367980</th>\n",
       "      <td>34.0</td>\n",
       "      <td>9.0</td>\n",
       "      <td>39.0</td>\n",
       "      <td>3799.0</td>\n",
       "    </tr>\n",
       "    <tr>\n",
       "      <th>367981</th>\n",
       "      <td>32.0</td>\n",
       "      <td>9.0</td>\n",
       "      <td>38.0</td>\n",
       "      <td>4290.0</td>\n",
       "    </tr>\n",
       "    <tr>\n",
       "      <th>367982</th>\n",
       "      <td>31.0</td>\n",
       "      <td>10.0</td>\n",
       "      <td>40.0</td>\n",
       "      <td>3770.0</td>\n",
       "    </tr>\n",
       "  </tbody>\n",
       "</table>\n",
       "<p>367983 rows × 4 columns</p>\n",
       "</div>"
      ],
      "text/plain": [
       "        MAGER  APGAR5  ESTGEST    DBWT\n",
       "0        28.0     9.0     37.0  3625.0\n",
       "1        18.0     9.0     38.0  3650.0\n",
       "2        21.0     9.0     38.0  3045.0\n",
       "3        25.0    10.0     40.0  3827.0\n",
       "4        28.0     8.0     39.0  3090.0\n",
       "...       ...     ...      ...     ...\n",
       "367978   20.0     8.0     39.0  2187.0\n",
       "367979   30.0     9.0     38.0  3210.0\n",
       "367980   34.0     9.0     39.0  3799.0\n",
       "367981   32.0     9.0     38.0  4290.0\n",
       "367982   31.0    10.0     40.0  3770.0\n",
       "\n",
       "[367983 rows x 4 columns]"
      ]
     },
     "execution_count": 5,
     "metadata": {},
     "output_type": "execute_result"
    }
   ],
   "source": [
    "# Don't change this cell.\n",
    "# Since births has had some rows dropped its index is no longer continuous.\n",
    "# We solve this by creating a new Dataframe from the ndarray in births (births.values)\n",
    "# but with the index and column names we want. \n",
    "birthsReduced = pd.DataFrame(births.values,  # ndarray\n",
    "                      index=range(0, births.shape[0]), # 0..367982\n",
    "                      columns=['MAGER', 'APGAR5', 'ESTGEST', 'DBWT'],\n",
    "                      copy=True\n",
    "                     )\n",
    "birthsReduced"
   ]
  },
  {
   "cell_type": "code",
   "execution_count": 6,
   "metadata": {},
   "outputs": [],
   "source": [
    "# Code check block - don't change this cell.\n",
    "assert birthsReduced.shape == (367983, 4)\n",
    "assert birthsReduced.loc[0, 'DBWT'] == 3625.0"
   ]
  },
  {
   "cell_type": "code",
   "execution_count": 7,
   "metadata": {},
   "outputs": [
    {
     "name": "stdout",
     "output_type": "stream",
     "text": [
      "Total memory used: 11.78 MBytes\n"
     ]
    }
   ],
   "source": [
    "# Just how much memory does this sucker take up? (don't change this cell)\n",
    "print('Total memory used: {0:0.2f} MBytes'.format(sum(birthsReduced.memory_usage(deep=True))/1.0e+06))"
   ]
  },
  {
   "cell_type": "markdown",
   "metadata": {},
   "source": [
    "We know that there is no missing data in <code>birthsReduced</code>, but before we do any analysis or visualization, let's do some informal validation. We might reasonably expect that:\n",
    "<ul>\n",
    "<li>that there are no mothers younger than 10 or older than 60 years old\n",
    "<li>that the APGAR scores are between 0.0 and 10.0, inclusive\n",
    "<li>that the period of gestation is not less than 20 nor more than 40 weeks\n",
    "<li>that birth weights are not less than 1 pound (454 grams) nor greater than 10 pounds (4536 grams)\n",
    "</ul>\n",
    "We can easily compute many descriptive statistics with the <code>DataFrame</code> method <code>describe()</code>. Look at these statistics to see if the data meets our expectations."
   ]
  },
  {
   "cell_type": "code",
   "execution_count": 8,
   "metadata": {},
   "outputs": [
    {
     "data": {
      "text/html": [
       "<div>\n",
       "<style scoped>\n",
       "    .dataframe tbody tr th:only-of-type {\n",
       "        vertical-align: middle;\n",
       "    }\n",
       "\n",
       "    .dataframe tbody tr th {\n",
       "        vertical-align: top;\n",
       "    }\n",
       "\n",
       "    .dataframe thead th {\n",
       "        text-align: right;\n",
       "    }\n",
       "</style>\n",
       "<table border=\"1\" class=\"dataframe\">\n",
       "  <thead>\n",
       "    <tr style=\"text-align: right;\">\n",
       "      <th></th>\n",
       "      <th>MAGER</th>\n",
       "      <th>APGAR5</th>\n",
       "      <th>ESTGEST</th>\n",
       "      <th>DBWT</th>\n",
       "    </tr>\n",
       "  </thead>\n",
       "  <tbody>\n",
       "    <tr>\n",
       "      <th>count</th>\n",
       "      <td>367983.000000</td>\n",
       "      <td>367983.000000</td>\n",
       "      <td>367983.000000</td>\n",
       "      <td>367983.000000</td>\n",
       "    </tr>\n",
       "    <tr>\n",
       "      <th>mean</th>\n",
       "      <td>27.271515</td>\n",
       "      <td>8.858627</td>\n",
       "      <td>38.434034</td>\n",
       "      <td>3259.400369</td>\n",
       "    </tr>\n",
       "    <tr>\n",
       "      <th>std</th>\n",
       "      <td>6.127856</td>\n",
       "      <td>0.757586</td>\n",
       "      <td>2.185390</td>\n",
       "      <td>596.681923</td>\n",
       "    </tr>\n",
       "    <tr>\n",
       "      <th>min</th>\n",
       "      <td>12.000000</td>\n",
       "      <td>0.000000</td>\n",
       "      <td>12.000000</td>\n",
       "      <td>227.000000</td>\n",
       "    </tr>\n",
       "    <tr>\n",
       "      <th>25%</th>\n",
       "      <td>22.000000</td>\n",
       "      <td>9.000000</td>\n",
       "      <td>38.000000</td>\n",
       "      <td>2955.000000</td>\n",
       "    </tr>\n",
       "    <tr>\n",
       "      <th>50%</th>\n",
       "      <td>27.000000</td>\n",
       "      <td>9.000000</td>\n",
       "      <td>39.000000</td>\n",
       "      <td>3297.000000</td>\n",
       "    </tr>\n",
       "    <tr>\n",
       "      <th>75%</th>\n",
       "      <td>32.000000</td>\n",
       "      <td>9.000000</td>\n",
       "      <td>40.000000</td>\n",
       "      <td>3629.000000</td>\n",
       "    </tr>\n",
       "    <tr>\n",
       "      <th>max</th>\n",
       "      <td>50.000000</td>\n",
       "      <td>10.000000</td>\n",
       "      <td>51.000000</td>\n",
       "      <td>8165.000000</td>\n",
       "    </tr>\n",
       "  </tbody>\n",
       "</table>\n",
       "</div>"
      ],
      "text/plain": [
       "               MAGER         APGAR5        ESTGEST           DBWT\n",
       "count  367983.000000  367983.000000  367983.000000  367983.000000\n",
       "mean       27.271515       8.858627      38.434034    3259.400369\n",
       "std         6.127856       0.757586       2.185390     596.681923\n",
       "min        12.000000       0.000000      12.000000     227.000000\n",
       "25%        22.000000       9.000000      38.000000    2955.000000\n",
       "50%        27.000000       9.000000      39.000000    3297.000000\n",
       "75%        32.000000       9.000000      40.000000    3629.000000\n",
       "max        50.000000      10.000000      51.000000    8165.000000"
      ]
     },
     "execution_count": 8,
     "metadata": {},
     "output_type": "execute_result"
    }
   ],
   "source": [
    "# Your code goes here to compute summary descriptive statistics.\n",
    "birthsReduced.describe()\n",
    "#births.min(axis=1)"
   ]
  },
  {
   "cell_type": "markdown",
   "metadata": {},
   "source": [
    "Please comment here on your observations. Any surprises?\n",
    "<code>Yes there were few surprises </code>\n",
    "#### For example ESTGEST had an acceptable interval of not less than 20 nor more than 40 weeks, but there is way less than 20 the minimum is 12 and the maximum is 51 which are bothe way out of boundaries.\n",
    "#### another surprise is Birth weight there is less than the minimum (454 g) we have 227g, and we have almost twice the upper acceptable limit (4536g) at 8165g."
   ]
  },
  {
   "cell_type": "markdown",
   "metadata": {},
   "source": [
    "Let's take a look at the data for the maximum <code>DBWT</code> and maximum <code>ESTGEST</code> values, as well as for the minimum <code>MAGER</code> values. Do these seem legitimate?"
   ]
  },
  {
   "cell_type": "code",
   "execution_count": 9,
   "metadata": {},
   "outputs": [
    {
     "name": "stdout",
     "output_type": "stream",
     "text": [
      "Rows for which the birth weight was 8165 grams.\n",
      "        MAGER  APGAR5  ESTGEST    DBWT\n",
      "134175   33.0     9.0     40.0  8165.0\n",
      "142562   34.0     9.0     38.0  8165.0\n"
     ]
    }
   ],
   "source": [
    "# Now we retrieve three sets of rows: one containing the maximum DBWT, one containing the maximum\n",
    "# ESTGEST, and one containing MAGER values <= 12. Here's an example, for the first set:\n",
    "print('Rows for which the birth weight was 8165 grams.')\n",
    "boolcol = birthsReduced['DBWT'] == 8165.0\n",
    "print(birthsReduced[boolcol])\n",
    "# Note the use of Boolean indexing to select the rows to print.\n",
    "# Your code goes here to print the rows where ESTGEST is 51 and where MAGER is 12 or less."
   ]
  },
  {
   "cell_type": "markdown",
   "metadata": {},
   "source": [
    "We'll investigate \"outliers\" further in Program 7.\n",
    "\n",
    "We've done quite a bit of work! Let's save the <code>birthsReduced Dataframe</code> for later use in Program 7."
   ]
  },
  {
   "cell_type": "code",
   "execution_count": null,
   "metadata": {},
   "outputs": [],
   "source": [
    "# Your code goes here, to save birthsReduced via pandas to_pickle().\n",
    "birthsReduced.to_pickle(DataOut)"
   ]
  }
 ],
 "metadata": {
  "kernelspec": {
   "display_name": "Python 3",
   "language": "python",
   "name": "python3"
  },
  "language_info": {
   "codemirror_mode": {
    "name": "ipython",
    "version": 3
   },
   "file_extension": ".py",
   "mimetype": "text/x-python",
   "name": "python",
   "nbconvert_exporter": "python",
   "pygments_lexer": "ipython3",
   "version": "3.8.5"
  }
 },
 "nbformat": 4,
 "nbformat_minor": 1
}
