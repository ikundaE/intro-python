{
 "cells": [
  {
   "cell_type": "markdown",
   "metadata": {},
   "source": [
    "# Enoch Ikunda\n",
    "### COS 184 fall 2020"
   ]
  },
  {
   "cell_type": "markdown",
   "metadata": {},
   "source": [
    "## Program 5: Casino games (20 points)"
   ]
  },
  {
   "cell_type": "markdown",
   "metadata": {},
   "source": [
    "This assignment is a continuation of Lab 6, where you defined two functions: <code>roll()</code> and <code>crapsRound()</code>. \n",
    "\n",
    "First, copy your function <code>crapsRound()</code> from Lab 7."
   ]
  },
  {
   "cell_type": "code",
   "execution_count": 1,
   "metadata": {},
   "outputs": [],
   "source": [
    "# Your code goes here to define the function crapsRound().\n",
    "def crapsRound():\n",
    "    games = []\n",
    "    this_roll = roll()\n",
    "    games.append(this_roll)\n",
    "    pt_made = False\n",
    "    if (this_roll == 7 or this_roll == 11):\n",
    "        games.append(\"win\")\n",
    "    elif (this_roll == 2 or this_roll == 3 or this_roll == 12):\n",
    "        games.append(\"lose\")\n",
    "    else: \n",
    "        point = this_roll\n",
    "        #games.append(this_roll)\n",
    "        while pt_made == False:\n",
    "            this_roll = roll()\n",
    "            games.append(this_roll)\n",
    "            if this_roll == point:\n",
    "                #games.append(this_roll)\n",
    "                games.append(\"win\")\n",
    "                pt_made = True\n",
    "            elif this_roll == 7:\n",
    "                #games.append(this_roll)\n",
    "                games.append(\"lose\")\n",
    "                pt_made = True\n",
    "            #else:\n",
    "                #this_roll = roll()\n",
    "    \n",
    "    return games"
   ]
  },
  {
   "cell_type": "markdown",
   "metadata": {},
   "source": [
    "While you may have gotten <code>crapsRound</code> to pass the code check block, you haven't exactly tested it thoroughly. It's a fairly complex chunk of logic so we should test it, but there's no obvious way to force it to go through each of its possible cases. We don't want to modify the code for <code>crapsRound()</code> because that would mean that we're not debugging the thing we want to be debugging!\n",
    "\n",
    "What we're going to do is to define a function <code>makeRoll(rollList)</code> that returns a function(!). That function, when called, returns the next number from <code>rollList</code>. <code>makeRoll</code> returns a function that has no arguments and returns elements of <code>rollList</code>, one after the other. This kind of function is known as a <i>closure</i> (see https://en.wikipedia.org/wiki/Closure_(computer_programming))."
   ]
  },
  {
   "cell_type": "code",
   "execution_count": 2,
   "metadata": {},
   "outputs": [],
   "source": [
    "# Don't change this cell.\n",
    "# Here's the definition of makeRoll, a function that returns a function that, when called, returns elements of a list.\n",
    "def makeRoll(rollList):\n",
    "    i = 0  # this is the index of the element of rollList to return. elem() modifies this.\n",
    "    def elem():\n",
    "        nonlocal i  # use the i above.\n",
    "        r = rollList[i]\n",
    "        i += 1\n",
    "        return r\n",
    "    return elem"
   ]
  },
  {
   "cell_type": "markdown",
   "metadata": {},
   "source": [
    "In use, create a list of outcomes of a roll of the dice that you want (make sure that the list reflects either a win or a loss), use <code>makeRoll(rollList)</code> to create a function, and assign that function to <code>roll()</code>. This will let you see whether <code>crapsRound()</code> is handling all of its cases correctly."
   ]
  },
  {
   "cell_type": "code",
   "execution_count": 3,
   "metadata": {},
   "outputs": [],
   "source": [
    "# Code check block. Examples of use follows.\n",
    "roll = makeRoll([5,12,6,4,5])  # your point is 5\n",
    "assert crapsRound()[-1] == 'win'\n",
    "roll = makeRoll([7])  # lucky seven\n",
    "assert crapsRound()[-1] == 'win'"
   ]
  },
  {
   "cell_type": "markdown",
   "metadata": {},
   "source": [
    "OK - now <u>you</u> make a code check block that runs <code>crapsRound()</code> through all of its cases and checks to see if it handles them correctly. Use the example in the code check block to show how to do this."
   ]
  },
  {
   "cell_type": "code",
   "execution_count": 14,
   "metadata": {},
   "outputs": [],
   "source": [
    "# Your code goes here to thoroughly check crapsRound() using makeRoll() and assert.\n",
    "roll = makeRoll([4,4])\n",
    "assert crapsRound()[-1] == 'win'\n",
    "roll = makeRoll([4,7])\n",
    "assert crapsRound()[-1] == 'lose'\n",
    "roll = makeRoll([3])\n",
    "assert crapsRound()[-1] == 'lose'\n",
    "roll = makeRoll([4,12,5,7])\n",
    "assert crapsRound()[-1] == 'lose'\n",
    "roll = makeRoll([4,3,2,3,2,4])\n",
    "assert crapsRound()[-1] == 'win'\n",
    "roll = makeRoll([4,4,3,3])\n",
    "assert crapsRound()[-1] == 'win'\n",
    "roll = makeRoll([7,2])\n",
    "assert crapsRound()[-1] == 'win'\n",
    "roll = makeRoll([11,1])\n",
    "assert crapsRound()[-1] == 'win'\n",
    "roll = makeRoll([6,7,6])\n",
    "assert crapsRound()[-1] == 'lose'\n",
    "roll = makeRoll([3,5,6,7,7,6])\n",
    "assert crapsRound()[-1] == 'lose'\n",
    "roll = makeRoll([11,5,6,7,7,6])\n",
    "assert crapsRound()[-1] == 'win'\n",
    "roll = makeRoll([5,6,11,7,6])\n",
    "assert crapsRound()[-1] == 'lose'\n",
    "roll = makeRoll([5,6,5,7,7,6])\n",
    "assert crapsRound()[-1] == 'win'"
   ]
  },
  {
   "cell_type": "markdown",
   "metadata": {},
   "source": [
    "OK -- we're satisfied that <code>crapsRound</code> is working correctly. Now copy your definition of <code>roll()</code> from Lab 6 into the following cell."
   ]
  },
  {
   "cell_type": "code",
   "execution_count": 5,
   "metadata": {},
   "outputs": [],
   "source": [
    "# Your code goes here to re-define the function roll() to be what you used in Lab 6. Don't forget to import randint.\n",
    "import random\n",
    "def roll():\n",
    "    return random.randint(1, 6) + random.randint(1, 6)"
   ]
  },
  {
   "cell_type": "markdown",
   "metadata": {},
   "source": [
    "Run <code>crapsRound()</code> twenty times and visually verify that it is working OK."
   ]
  },
  {
   "cell_type": "code",
   "execution_count": 6,
   "metadata": {},
   "outputs": [
    {
     "name": "stdout",
     "output_type": "stream",
     "text": [
      "[6, 4, 8, 12, 6, 'win']\n",
      "[7, 'win']\n",
      "[9, 9, 'win']\n",
      "[5, 12, 8, 7, 'lose']\n",
      "[8, 7, 'lose']\n",
      "[3, 'lose']\n",
      "[7, 'win']\n",
      "[12, 'lose']\n",
      "[6, 7, 'lose']\n",
      "[9, 4, 9, 'win']\n",
      "[7, 'win']\n",
      "[6, 7, 'lose']\n",
      "[5, 12, 6, 6, 3, 7, 'lose']\n",
      "[5, 6, 5, 'win']\n",
      "[9, 3, 9, 'win']\n",
      "[9, 11, 6, 6, 6, 11, 7, 'lose']\n",
      "[9, 9, 'win']\n",
      "[3, 'lose']\n",
      "[7, 'win']\n",
      "[5, 5, 'win']\n"
     ]
    }
   ],
   "source": [
    "# Your code goes here to run crapsRound() twenty times and print its result.\n",
    "#game_list = []\n",
    "for i in range (0,20):\n",
    "    print(crapsRound())"
   ]
  },
  {
   "cell_type": "markdown",
   "metadata": {},
   "source": [
    "Let's figure out the odds that the house will win (the odds that you will lose). Run <code>crapsRound()</code> a large number of times (say 100,000) and tabulate how many times you lose. The odds that the house will win will be that number divided by the number of rounds. Print these odds as a percentage. The \"house edge\" is that percentage minus 50%."
   ]
  },
  {
   "cell_type": "code",
   "execution_count": 7,
   "metadata": {},
   "outputs": [
    {
     "name": "stdout",
     "output_type": "stream",
     "text": [
      "The house edge is : 0.75 %\n"
     ]
    }
   ],
   "source": [
    "# Your code goes here to run crapsRound() many times, count losses, and compute the house edg\n",
    "games_list= []\n",
    "games_lost = 0\n",
    "games_won = 0\n",
    "aggregate = []\n",
    "for i in range (0,100000):\n",
    "    games_list = crapsRound()\n",
    "    game_check = games_list [-1]\n",
    "    if game_check == 'lose':\n",
    "        games_lost +=1\n",
    "    else:\n",
    "        games_won +=1\n",
    "house_edge = ((games_lost / 100000) * 100) - 50\n",
    "print(\"The house edge is : %.2f\" %house_edge,\"%\")    "
   ]
  },
  {
   "cell_type": "markdown",
   "metadata": {},
   "source": [
    "## Extra credit (5 points)"
   ]
  },
  {
   "cell_type": "markdown",
   "metadata": {},
   "source": [
    "You are a gambler. You make ten visits to the casino and each time you play 100 rounds of craps. You keep track of each visit in a list. Print the list. Did you win more times than you lost?  "
   ]
  },
  {
   "cell_type": "code",
   "execution_count": 8,
   "metadata": {},
   "outputs": [
    {
     "name": "stdout",
     "output_type": "stream",
     "text": [
      "['lose', 'lose', 'lose', 'lose', 'lose', 'lose', 'lose', 'lose', 'lose', 'win']\n",
      "After 10 visits while playing 100 round of craps per visit you had: 1 wins and 9 losses\n"
     ]
    }
   ],
   "source": [
    "# Simulate 10 visits of 100 rounds each, tabulating only whether you won more often than you lost on each visit.\n",
    "# Are you running ahead, breaking even or losing?\n",
    "i = 0\n",
    "visits = []\n",
    "while i < 10:\n",
    "    #This loops keeps track of wins and losses during rounds\n",
    "    games_lost = 0\n",
    "    games_won = 0\n",
    "    for j in range (0,100):\n",
    "        game_check = crapsRound() [-1]\n",
    "        if game_check == 'lose':\n",
    "            games_lost +=1\n",
    "        else :\n",
    "            games_won += 1\n",
    "    #End of for loop\n",
    "    #Keeps track of wins/losses ratio per visit after playing 100 rounds\n",
    "    if games_lost > games_won :\n",
    "        visits.insert(i,'lose')\n",
    "    else :\n",
    "        visits.insert(i,'win')\n",
    "    #controling expression for the while loop\n",
    "    i +=1\n",
    "#End of while loop\n",
    "wins, losses = 0, 0\n",
    "print(visits)\n",
    "for k in range (len(visits)) :\n",
    "    if visits [k] == 'win':\n",
    "        wins += 1\n",
    "    else:\n",
    "        losses += 1\n",
    "#End of for loop\n",
    "print(\"After 10 visits while playing 100 round of craps per visit you had:\", wins, \"wins and\"\n",
    "     ,losses, \"losses\")"
   ]
  },
  {
   "cell_type": "code",
   "execution_count": null,
   "metadata": {},
   "outputs": [],
   "source": []
  }
 ],
 "metadata": {
  "kernelspec": {
   "display_name": "Python 3",
   "language": "python",
   "name": "python3"
  },
  "language_info": {
   "codemirror_mode": {
    "name": "ipython",
    "version": 3
   },
   "file_extension": ".py",
   "mimetype": "text/x-python",
   "name": "python",
   "nbconvert_exporter": "python",
   "pygments_lexer": "ipython3",
   "version": "3.8.5"
  }
 },
 "nbformat": 4,
 "nbformat_minor": 1
}
