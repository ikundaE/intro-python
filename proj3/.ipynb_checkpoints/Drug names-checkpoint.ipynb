{
 "cells": [
  {
   "cell_type": "markdown",
   "metadata": {},
   "source": [
    "# Enoch Ikunda\n",
    "### COS 184 fall 2020"
   ]
  },
  {
   "cell_type": "markdown",
   "metadata": {},
   "source": [
    "## Program 3: Synthetic drug names (20 points)"
   ]
  },
  {
   "cell_type": "markdown",
   "metadata": {},
   "source": [
    "This assignment is intended to exercise your Python decision-making skills. It might also make you laugh.\n",
    "\n",
    "Let's begin by copying over the definitions of <code>VOWELS</code>, <code>CONSONANTS</code>, <code>endings</code>, <code>endingsU</code> and <code>syllable()</code> from Lab 4. Use the definition of <code>syllable</code> that includes q."
   ]
  },
  {
   "cell_type": "code",
   "execution_count": 1,
   "metadata": {},
   "outputs": [],
   "source": [
    "import random\n",
    "# Your code from Lab 4 goes here:\n",
    "VOWELS = 'aeiou'                    # missing y\n",
    "CONSONANTS = 'bcdfghjklmnprstvwxz'  # missing q and y\n",
    "\n",
    "# Your code to create the list named endings goes here.\n",
    "endings = [\"ol\", \"in\", \"ex\"]\n",
    "\n",
    "# Your code to make endingsU goes here.\n",
    "endingsU = [\"uin\", \"uit\", \"uix\"]\n",
    "\n",
    "# Your modified definition of syllable() goes here.\n",
    "def syllable(v, c):\n",
    "    random_v = random.choice(v)\n",
    "    random_c = random.choice(c)\n",
    "    if random_c == 'q':\n",
    "        random_c = 'qu'\n",
    "    return random_c + random_v"
   ]
  },
  {
   "cell_type": "markdown",
   "metadata": {},
   "source": [
    "Now let's define a new function, <code>drugname(v, c)</code>, that returns a full drug name. The body of <code>drugname()</code> is like what you did for Lab 4, except that we want the generated names to be a bit more random: instead of exactly two syllables in the middle of the name, make the number of syllables random between 0 and 3."
   ]
  },
  {
   "cell_type": "code",
   "execution_count": 2,
   "metadata": {},
   "outputs": [],
   "source": [
    "# Your code to define drugname() goes here.\n",
    "def drugname(v, c):\n",
    "    #random_v = \"\"\n",
    "    #random_c = \"\"\n",
    "    #def syllable(v, c):\n",
    "        #random_v = random.choice(v)\n",
    "        #random_c = random.choice(c)\n",
    "        #if random_c == 'q':\n",
    "            #random_c = 'qu'\n",
    "        #return random_c + random_v\n",
    "    drug = \"\"\n",
    "    #random_v = random.choice(v)\n",
    "    #random_c = random.choice(c)\n",
    "    for i in range(random.randint(1, 4)):\n",
    "        drug += syllable(VOWELS, CONSONANTS + 'q')\n",
    "        #drug += random.choice((random_v, random_c))\n",
    "\n",
    "    x = random.choice('q')\n",
    "    drug += x\n",
    "    if x == 'q':\n",
    "        drug += random.choice(endingsU)\n",
    "    else:\n",
    "        drug += random.choice(endings)    \n",
    "    drug = drug.title()\n",
    "    return drug"
   ]
  },
  {
   "cell_type": "code",
   "execution_count": 3,
   "metadata": {},
   "outputs": [],
   "source": [
    "#drugname(VOWELS, CONSONANTS + 'q')"
   ]
  },
  {
   "cell_type": "code",
   "execution_count": 4,
   "metadata": {},
   "outputs": [],
   "source": [
    "# Don't change this cell -- it's a code check block.\n",
    "_ = drugname(VOWELS, CONSONANTS + 'q')\n",
    "assert _ and len(_) >= 5\n",
    "assert _.isalpha()\n",
    "assert _[0].lower() in CONSONANTS + 'q'\n",
    "assert _[1] in VOWELS"
   ]
  },
  {
   "cell_type": "markdown",
   "metadata": {},
   "source": [
    "It may be that the drug names that <code>drugname</code> produces are good choices for a new drug, but some may be insensitive or even offensive. We can do something about that: we can screen out drug names that contain bad words. First, we have to define a list of bad <code>string</code>s, called <code>BADWORDS</code>. This list should contain any sequences of characters that you want to avoid in a drug name. Then we have to check for them and ignore any drug names that contain them."
   ]
  },
  {
   "cell_type": "code",
   "execution_count": 5,
   "metadata": {},
   "outputs": [],
   "source": [
    "# Your code goes here to create the list BADWORDS of banned words.\n",
    "BADWORDS = [\"boob\",\"Boob\",\"fuc\",\"Fuc\", \"penis\",\"Penis\", \n",
    "            \"porn\",\"Porn\", \"sex\",\"Sex\", \"poop\",\"Poop\",\"nig\",\"Nig\"]\n",
    "#def checkBadWords ():\n",
    "    #drug = drugname(VOWELS, CONSONANTS + 'q')\n",
    "    #drug = \"tapornquix\"\n",
    "    #for b in BADWORDS:\n",
    "        #if b in drug:\n",
    "            #print(\"Found a bad word: \", b + \" in : \", drug)\n",
    "            #drugname(VOWELS, CONSONANTS + 'q')\n",
    "            #break\n",
    "    #return drug        "
   ]
  },
  {
   "cell_type": "code",
   "execution_count": 6,
   "metadata": {
    "scrolled": true
   },
   "outputs": [],
   "source": [
    "#checkBadWords()"
   ]
  },
  {
   "cell_type": "markdown",
   "metadata": {},
   "source": [
    "Now we want to be able to generate a number of drug names, making sure to suppress any that contain a banned word. Define the function <code>writeNames(fn, n)</code> that generates no more than <code>n</code> drug names and writes them all to the file  whose name is <code>fn</code>."
   ]
  },
  {
   "cell_type": "code",
   "execution_count": 7,
   "metadata": {},
   "outputs": [],
   "source": [
    "# Your code goes here to define the function writeNames\n",
    "#>>(fn, n) which generates no more than n drug names and\n",
    "#>>>writes them all to the file whose name is fn, \n",
    "#>>>suppressing any names that contain one or more of the badwords list.\n",
    "def writeNames(fn, n):\n",
    "    #List = []\n",
    "    j = 1\n",
    "    for i in range (0, n):\n",
    "        drug = drugname (VOWELS, CONSONANTS+'q')\n",
    "        fn.write(str(j))\n",
    "        fn.write(\": \")\n",
    "        j += 1\n",
    "        #if not any (b in drug for b in BADWORDS): print (drug, file=fn)\n",
    "        found = False\n",
    "        for b in BADWORDS:\n",
    "            if b in drug:\n",
    "                found = True\n",
    "                break\n",
    "        if not found:\n",
    "            print(drug, file=fn)\n",
    "        else:\n",
    "            print(\"Found a bad word: \", b, \"in:\", drug)\n",
    "        #else :\n",
    "            #print (\"Found a bad word: \", b + \"in: \", drug)\n",
    "        #checkBadWords ()\n",
    "        #List.append (drugname(VOWELS, CONSONANTS + 'q'))\n",
    "    #print(List)\n",
    "    #fn = open(\"drugsnames.txt\", \"w\")\n",
    "    #i = 1\n",
    "    #for d in List:\n",
    "        # write line to output file\n",
    "        #fn.write(str(i))\n",
    "        #fn.write(\": \")\n",
    "        #i += 1\n",
    "        #fn.write(d)\n",
    "        #fn.write(\"\\n\")\n",
    "    #fn.close()"
   ]
  },
  {
   "cell_type": "markdown",
   "metadata": {},
   "source": [
    "Let's save 30 drug names to a file named <code>drugnames.txt</code>."
   ]
  },
  {
   "cell_type": "code",
   "execution_count": 8,
   "metadata": {},
   "outputs": [],
   "source": [
    "# Your code to write 30 drug names to drugnames.txt goes here. \n",
    "#>Note that the file will be written to the directory\n",
    "#>>that this Jupyter Notebook is in.\n",
    "\n",
    "#outPutFile = open(\"drugsnames.txt\", \"w\")\n",
    "#writeNames(outPutFile, 30)\n",
    "with open ('drugsnames.txt', 'wt') as file:\n",
    "    writeNames(file, 30)"
   ]
  },
  {
   "cell_type": "markdown",
   "metadata": {},
   "source": [
    "Finally, read back the file and print out all of the drug names in the file.  If none of them makes you laugh, re-execute the previous and next cells until one does."
   ]
  },
  {
   "cell_type": "code",
   "execution_count": 9,
   "metadata": {},
   "outputs": [
    {
     "name": "stdout",
     "output_type": "stream",
     "text": [
      "1: Pigapoquix\n",
      "\n",
      "2: Vubotuquin\n",
      "\n",
      "3: Goquit\n",
      "\n",
      "4: Rubewiquit\n",
      "\n",
      "5: Nazaquit\n",
      "\n",
      "6: Fahuquit\n",
      "\n",
      "7: Kafequin\n",
      "\n",
      "8: Quuquix\n",
      "\n",
      "9: Kuhituhequix\n",
      "\n",
      "10: Voquit\n",
      "\n",
      "11: Tebazoquix\n",
      "\n",
      "12: Komequin\n",
      "\n",
      "13: Vunequit\n",
      "\n",
      "14: Quequin\n",
      "\n",
      "15: Mequin\n",
      "\n",
      "16: Quuquit\n",
      "\n",
      "17: Roquix\n",
      "\n",
      "18: Hahajinuquit\n",
      "\n",
      "19: Suboquin\n",
      "\n",
      "20: Gakicaquin\n",
      "\n",
      "21: Dipuquix\n",
      "\n",
      "22: Bajakaquit\n",
      "\n",
      "23: Tozigaquin\n",
      "\n",
      "24: Biweneloquix\n",
      "\n",
      "25: Dexequix\n",
      "\n",
      "26: Caquin\n",
      "\n",
      "27: Humequin\n",
      "\n",
      "28: Cakequix\n",
      "\n",
      "29: Zoquin\n",
      "\n",
      "30: Xuhoquin\n",
      "\n"
     ]
    }
   ],
   "source": [
    "# Your code to read the file back and print out its contents goes here.\n",
    "\n",
    "#file = open(\"drugsnames.txt\", \"r\")\n",
    "#print(file.read())\n",
    "with open ('drugsnames.txt', 'rt') as file:\n",
    "    for line in file:\n",
    "        print(line)"
   ]
  },
  {
   "cell_type": "code",
   "execution_count": null,
   "metadata": {},
   "outputs": [],
   "source": []
  }
 ],
 "metadata": {
  "kernelspec": {
   "display_name": "Python 3",
   "language": "python",
   "name": "python3"
  },
  "language_info": {
   "codemirror_mode": {
    "name": "ipython",
    "version": 3
   },
   "file_extension": ".py",
   "mimetype": "text/x-python",
   "name": "python",
   "nbconvert_exporter": "python",
   "pygments_lexer": "ipython3",
   "version": "3.8.5"
  }
 },
 "nbformat": 4,
 "nbformat_minor": 1
}
