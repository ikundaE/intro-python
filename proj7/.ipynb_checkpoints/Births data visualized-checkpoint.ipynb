{
 "cells": [
  {
   "cell_type": "markdown",
   "metadata": {},
   "source": [
    "# Enoch Ikunda\n",
    "### COS 184 fall 2020"
   ]
  },
  {
   "cell_type": "markdown",
   "metadata": {},
   "source": [
    "## Program 7: Births data visualized (20 points)"
   ]
  },
  {
   "cell_type": "markdown",
   "metadata": {},
   "source": [
    "This assignment gets us into some visualization of actual data. Lab 8 and Program 6 have already paved the way by saving a nice clean reduced <code>DataFrame</code>. Program 6 saved the reduced data as a pickled <code>DataFrame</code> so we can just read it in (\"un-pickle it\") and get going."
   ]
  },
  {
   "cell_type": "code",
   "execution_count": 57,
   "metadata": {},
   "outputs": [],
   "source": [
    "# Don't change this cell.\n",
    "import pandas as pd, numpy as np\n",
    "import pylab as pl\n",
    "DataIn = 'Births2006reduced.pkl'"
   ]
  },
  {
   "cell_type": "code",
   "execution_count": 58,
   "metadata": {},
   "outputs": [
    {
     "data": {
      "text/html": [
       "<div>\n",
       "<style scoped>\n",
       "    .dataframe tbody tr th:only-of-type {\n",
       "        vertical-align: middle;\n",
       "    }\n",
       "\n",
       "    .dataframe tbody tr th {\n",
       "        vertical-align: top;\n",
       "    }\n",
       "\n",
       "    .dataframe thead th {\n",
       "        text-align: right;\n",
       "    }\n",
       "</style>\n",
       "<table border=\"1\" class=\"dataframe\">\n",
       "  <thead>\n",
       "    <tr style=\"text-align: right;\">\n",
       "      <th></th>\n",
       "      <th>MAGER</th>\n",
       "      <th>APGAR5</th>\n",
       "      <th>ESTGEST</th>\n",
       "      <th>DBWT</th>\n",
       "    </tr>\n",
       "  </thead>\n",
       "  <tbody>\n",
       "    <tr>\n",
       "      <th>0</th>\n",
       "      <td>28.0</td>\n",
       "      <td>9.0</td>\n",
       "      <td>37.0</td>\n",
       "      <td>3625.0</td>\n",
       "    </tr>\n",
       "    <tr>\n",
       "      <th>1</th>\n",
       "      <td>18.0</td>\n",
       "      <td>9.0</td>\n",
       "      <td>38.0</td>\n",
       "      <td>3650.0</td>\n",
       "    </tr>\n",
       "    <tr>\n",
       "      <th>2</th>\n",
       "      <td>21.0</td>\n",
       "      <td>9.0</td>\n",
       "      <td>38.0</td>\n",
       "      <td>3045.0</td>\n",
       "    </tr>\n",
       "    <tr>\n",
       "      <th>3</th>\n",
       "      <td>25.0</td>\n",
       "      <td>10.0</td>\n",
       "      <td>40.0</td>\n",
       "      <td>3827.0</td>\n",
       "    </tr>\n",
       "    <tr>\n",
       "      <th>4</th>\n",
       "      <td>28.0</td>\n",
       "      <td>8.0</td>\n",
       "      <td>39.0</td>\n",
       "      <td>3090.0</td>\n",
       "    </tr>\n",
       "    <tr>\n",
       "      <th>...</th>\n",
       "      <td>...</td>\n",
       "      <td>...</td>\n",
       "      <td>...</td>\n",
       "      <td>...</td>\n",
       "    </tr>\n",
       "    <tr>\n",
       "      <th>367978</th>\n",
       "      <td>20.0</td>\n",
       "      <td>8.0</td>\n",
       "      <td>39.0</td>\n",
       "      <td>2187.0</td>\n",
       "    </tr>\n",
       "    <tr>\n",
       "      <th>367979</th>\n",
       "      <td>30.0</td>\n",
       "      <td>9.0</td>\n",
       "      <td>38.0</td>\n",
       "      <td>3210.0</td>\n",
       "    </tr>\n",
       "    <tr>\n",
       "      <th>367980</th>\n",
       "      <td>34.0</td>\n",
       "      <td>9.0</td>\n",
       "      <td>39.0</td>\n",
       "      <td>3799.0</td>\n",
       "    </tr>\n",
       "    <tr>\n",
       "      <th>367981</th>\n",
       "      <td>32.0</td>\n",
       "      <td>9.0</td>\n",
       "      <td>38.0</td>\n",
       "      <td>4290.0</td>\n",
       "    </tr>\n",
       "    <tr>\n",
       "      <th>367982</th>\n",
       "      <td>31.0</td>\n",
       "      <td>10.0</td>\n",
       "      <td>40.0</td>\n",
       "      <td>3770.0</td>\n",
       "    </tr>\n",
       "  </tbody>\n",
       "</table>\n",
       "<p>367983 rows × 4 columns</p>\n",
       "</div>"
      ],
      "text/plain": [
       "        MAGER  APGAR5  ESTGEST    DBWT\n",
       "0        28.0     9.0     37.0  3625.0\n",
       "1        18.0     9.0     38.0  3650.0\n",
       "2        21.0     9.0     38.0  3045.0\n",
       "3        25.0    10.0     40.0  3827.0\n",
       "4        28.0     8.0     39.0  3090.0\n",
       "...       ...     ...      ...     ...\n",
       "367978   20.0     8.0     39.0  2187.0\n",
       "367979   30.0     9.0     38.0  3210.0\n",
       "367980   34.0     9.0     39.0  3799.0\n",
       "367981   32.0     9.0     38.0  4290.0\n",
       "367982   31.0    10.0     40.0  3770.0\n",
       "\n",
       "[367983 rows x 4 columns]"
      ]
     },
     "execution_count": 58,
     "metadata": {},
     "output_type": "execute_result"
    }
   ],
   "source": [
    "# Your code goes here, to read the pickled DataFrame and un-pickle it on the way. Name the result births.\n",
    "births = pd.read_pickle(DataIn)\n",
    "births"
   ]
  },
  {
   "cell_type": "markdown",
   "metadata": {
    "collapsed": true
   },
   "source": [
    "Now's the time to start asking questions that we can use the data to answer. The best way to do a study like this is to start with the questions first and then choose the data in response to them, but we have done this the other way around. Let's list some questions that might have interesting answers. Please feel free to add to, or substitute for entries in this list, as long as the questions can be answered from the data in the columns we have of <code>births</code>.\n",
    "<ol>\n",
    "<li>What proportion of births have different periods of gestation?\n",
    "<li>Is there an optimum birth weight for a healthy baby?\n",
    "</ol>"
   ]
  },
  {
   "cell_type": "markdown",
   "metadata": {
    "collapsed": true
   },
   "source": [
    "The question regarding gestation is really a question about the <i>distribution</i> of gestations. Let's begin by forming an histogram of estimated gestations -- use the DataFrame method <code>hist()</code>. You can find a description of this method at https://pandas.pydata.org/pandas-docs/stable/reference/api/pandas.DataFrame.hist.html."
   ]
  },
  {
   "cell_type": "code",
   "execution_count": 59,
   "metadata": {},
   "outputs": [
    {
     "data": {
      "text/plain": [
       "array([[<AxesSubplot:title={'center':'ESTGEST'}>]], dtype=object)"
      ]
     },
     "execution_count": 59,
     "metadata": {},
     "output_type": "execute_result"
    },
    {
     "data": {
      "image/png": "[encoded data removed]",
      "text/plain": [
       "<Figure size 432x288 with 1 Axes>"
      ]
     },
     "metadata": {
      "needs_background": "light"
     },
     "output_type": "display_data"
    }
   ],
   "source": [
    "%matplotlib inline\n",
    "# Your code goes here to histogram the ESTGEST column. Try 92 bins.\n",
    "births.hist( column='ESTGEST', bins=92)\n",
    "#births['ESTGEST'].max()\n",
    "#births['ESTGEST'].min()"
   ]
  },
  {
   "cell_type": "markdown",
   "metadata": {},
   "source": [
    "A piechart would answer the question better for those who think visually, but piecharts require that we <i>categorize</i> the data. Inspect the histogram and select 4-6 ranges of gestation periods. Then count how many gestations fall in each range. Select the ranges so that they completely cover all possible gestations, and if any one range has too many births, make it a bit smaller (and the adjoining range a bit bigger)."
   ]
  },
  {
   "cell_type": "code",
   "execution_count": 60,
   "metadata": {},
   "outputs": [
    {
     "data": {
      "text/plain": [
       "[1641, 6520, 249466, 110356]"
      ]
     },
     "execution_count": 60,
     "metadata": {},
     "output_type": "execute_result"
    }
   ],
   "source": [
    "counts = []  # counts in each range (needed for the pie chart).\n",
    "# Your code goes here to compute a list of counts. First create a Boolean index that is True\n",
    "boolcol = True \n",
    "# if the value in the ESTGEST column is between a and b, inclusive:\n",
    "#    boolcol = (births.ESTGEST >= a) & (births.ESTGEST <= b)\n",
    "boolcol = (births.ESTGEST >= 12) & (births.ESTGEST <= 25)\n",
    "# Now use that index to create a reduced DataFrame, and count its rows:\n",
    "#    k = births.ESTGEST[boolcol].count()\n",
    "k = births.ESTGEST[boolcol].count()\n",
    "counts.append(k)\n",
    "# Now do this for each range and put the result in counts.\n",
    "\n",
    "boolcol = (births.ESTGEST >= 26) & (births.ESTGEST <= 32)\n",
    "k = births.ESTGEST[boolcol].count()\n",
    "counts.append(k)\n",
    "\n",
    "boolcol = (births.ESTGEST >= 33) & (births.ESTGEST <= 39)\n",
    "k = births.ESTGEST[boolcol].count()\n",
    "counts.append(k)\n",
    "\n",
    "boolcol = (births.ESTGEST >= 40) & (births.ESTGEST <=51)\n",
    "k = births.ESTGEST[boolcol].count()\n",
    "counts.append(k)\n",
    "counts"
   ]
  },
  {
   "cell_type": "markdown",
   "metadata": {},
   "source": [
    "Now we can use <code>counts</code> to form a pie chart."
   ]
  },
  {
   "cell_type": "code",
   "execution_count": 61,
   "metadata": {},
   "outputs": [
    {
     "data": {
      "text/plain": [
       "([<matplotlib.patches.Wedge at 0x19f38002070>,\n",
       "  <matplotlib.patches.Wedge at 0x19f38002f40>,\n",
       "  <matplotlib.patches.Wedge at 0x19f3800d1f0>,\n",
       "  <matplotlib.patches.Wedge at 0x19f3800d1c0>],\n",
       " [Text(1.4998527973594942, 0.021013953766493627, '12-25'),\n",
       "  Text(1.0961506903263176, 0.09194380945521866, '26-32'),\n",
       "  Text(-0.7072281499334321, 0.8425131120295607, '33-39'),\n",
       "  Text(0.6468591776155195, -0.8897039981558889, '40-51')])"
      ]
     },
     "execution_count": 61,
     "metadata": {},
     "output_type": "execute_result"
    },
    {
     "data": {
      "image/png": "[encoded data removed]",
      "text/plain": [
       "<Figure size 432x288 with 1 Axes>"
      ]
     },
     "metadata": {},
     "output_type": "display_data"
    }
   ],
   "source": [
    "# Your code goes here to make a pie chart of the list of counts.\n",
    "labels = ['12-25','26-32','33-39','40-51']\n",
    "explode = [0.4,0,0,0]\n",
    "pl.pie(x=counts,explode=explode,labels=labels)"
   ]
  },
  {
   "cell_type": "markdown",
   "metadata": {},
   "source": [
    "The second question, \"Is there an optimum birth weight for a healthy baby?\" can be cast as a plot of the  <code>APGAR5</code> score vs. birth weight <code>DBWT</code>. This time, even though there are many data points, we blithely create a scatter plot."
   ]
  },
  {
   "cell_type": "code",
   "execution_count": 62,
   "metadata": {},
   "outputs": [
    {
     "data": {
      "image/png": "[encoded data removed]",
      "text/plain": [
       "<Figure size 432x288 with 1 Axes>"
      ]
     },
     "metadata": {
      "needs_background": "light"
     },
     "output_type": "display_data"
    }
   ],
   "source": [
    "weight = births.DBWT\n",
    "health = births.APGAR5\n",
    "# Your code goes here to show a scatter plot of weight vs health.\n",
    "pl.plot(weight,health,'ro')\n",
    "#pl.title(title)\n",
    "pl.show()"
   ]
  },
  {
   "cell_type": "markdown",
   "metadata": {},
   "source": [
    "What this plot suggests is that the healthiest babies have a fairly wide range of weights, including some pretty low ones (but not the lowest) and some pretty high ones (but not the highest). Babies with middle scores (<code>APGAR5</code> = 5) have a bit narrower range, tending towards the lighter side. Babies with really poor scores generally tend towards lighter weight. We can confirm this visual impression by computing categories based on the <code>APGAR5</code> score and showing their averages.\n",
    "\n",
    "Make a list containing the mean value of all birth weights for babies with an <code>APGAR5</code> score equal to the index: that is, the first value in the list (index = 0) is the mean value of all birth weights with an <code>APGAR5</code> value of 0. We will do this in a way that is very similar to what we did to answer the first question."
   ]
  },
  {
   "cell_type": "code",
   "execution_count": 63,
   "metadata": {},
   "outputs": [],
   "source": [
    "means = []  # means[i] is the mean birth weight for an APGAR5 score of i\n",
    "# First create a Boolean index that is True if the APGAR5 score is i:\n",
    "boolcol = True\n",
    "#   boolcol = births.APGAR5 == i\n",
    "for i in range (0,11):\n",
    "    boolcol = births.APGAR5 == i\n",
    "    # Now use that index to create a reduced DataFrame, and calculate its mean:\n",
    "    #   k = births.DBWT[boolcol].mean()\n",
    "    k = births.DBWT[boolcol].mean()\n",
    "    means.insert(i,k)\n",
    "# Now do this for each possible APGAR5 score (0-10) and put the result in means."
   ]
  },
  {
   "cell_type": "markdown",
   "metadata": {},
   "source": [
    "Let's do a bar chart of these means."
   ]
  },
  {
   "cell_type": "code",
   "execution_count": 64,
   "metadata": {},
   "outputs": [
    {
     "data": {
      "image/png": "[encoded data removed]",
      "text/plain": [
       "<Figure size 432x288 with 1 Axes>"
      ]
     },
     "metadata": {
      "needs_background": "light"
     },
     "output_type": "display_data"
    }
   ],
   "source": [
    "# Your code goes here to make a vertical bar chart of means. The first argument to pl.bar() must be\n",
    "# a list of the APGAR5 scores (0-10) and the second argument must be the list means.\n",
    "list_APGAR5 = [0,1,2,3,4,5,6,7,8,9,10]\n",
    "pl.bar(list_APGAR5,means,color='y')\n",
    "pl.show()"
   ]
  },
  {
   "cell_type": "markdown",
   "metadata": {},
   "source": [
    "This generally confirms our earlier observation: that the average birth weight of healthy babies is higher than that of sick babies. The sickest babies (<code>APGAR5</code> = 1) have the lowest average birth weight. The <code>APGAR5</code> score of 0 means that the baby is dead, and may have died for a host of reasons."
   ]
  }
 ],
 "metadata": {
  "kernelspec": {
   "display_name": "Python 3",
   "language": "python",
   "name": "python3"
  },
  "language_info": {
   "codemirror_mode": {
    "name": "ipython",
    "version": 3
   },
   "file_extension": ".py",
   "mimetype": "text/x-python",
   "name": "python",
   "nbconvert_exporter": "python",
   "pygments_lexer": "ipython3",
   "version": "3.8.5"
  }
 },
 "nbformat": 4,
 "nbformat_minor": 1
}
