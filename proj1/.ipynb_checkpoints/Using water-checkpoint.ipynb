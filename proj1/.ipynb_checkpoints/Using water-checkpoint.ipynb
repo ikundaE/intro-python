{
 "cells": [
  {
   "cell_type": "markdown",
   "metadata": {},
   "source": [
    "# Enoch Ikunda\n",
    "### COS 184 fall 2020"
   ]
  },
  {
   "cell_type": "markdown",
   "metadata": {},
   "source": [
    "## Program 1: Using water and water-related energy (20 points)"
   ]
  },
  {
   "cell_type": "markdown",
   "metadata": {},
   "source": [
    "# This assignment is about an household's consumption of water and water-related electricity. We first gather some information about a household's use of water. Then we compute the yearly water consumption and the yearly electricity consumption related to it. We assume that all hot water is heated by electricity. At the end of the program, the total carbon dioxide emissions related to the coal-fired power plant generation of that electricity is computed. This program does not consider electricity consumed by the clothes dryer (not inconsiderable!).\n",
    "\n",
    "From a programming point of view, this program is an exercise in the use of variables and arithmetic expressions.\n",
    "<B>Always use variables in an expression - avoid the use of numeric literals if at all possible.</B>\n",
    "This makes it possible to change the program by changing the value assigned to a variable, as opposed to having to find every place where a numeric literal is used and having to change them all. And don't re-compute something that you have already computed and have a variable for."
   ]
  },
  {
   "cell_type": "code",
   "execution_count": 1,
   "metadata": {},
   "outputs": [],
   "source": [
    "# Don't change this cell.\n",
    "# Program data. Initial values are all set to an invalid value. You will be assigning values to these variables.\n",
    "# Values read from user interaction.\n",
    "people = -1                # int - number of people in the household\n",
    "showers_person_week = -1   # int - number of showers each person takes, per week\n",
    "flushes_person_day = -1    # int - number of times each person flushes the toilet, per day\n",
    "dishes_all_week = -1       # int - number of times the entire household runs the dishwasher, per week\n",
    "clothes_all_week = -1      # int - number of times the entire household runs the clothes washer, per week\n",
    "# Computed values.\n",
    "showers_all_week = -1      # int - total number of showers the entire household takes, per week\n",
    "flushes_all_week = -1      # int - total number of toilet flushes the entire household takes, per week"
   ]
  },
  {
   "cell_type": "markdown",
   "metadata": {},
   "source": [
    "Begin the program by gathering some information from the user:\n",
    "<ol>\n",
    "   <li> How many people are in the household? (Set the variable <code>people</code> to this value)\n",
    "   <li> On average, how many showers does each person take a week? (Set the variable <code>showers_person_week</code> to this value)\n",
    "   <li> On average, how many times does each person flush the toilet each day? (Set the variable <code>flushes_person_day</code> to this value)\n",
    "   <li> How many times a week is the dishwasher run? (Set the variable <code>dishes_all_week</code> to this value)\n",
    "   <li> How many times a week is the clothes washer run? (Set the variable <code>clothes_all_week</code> to this value)\n",
    " </ol>\n",
    "Then compute weekly totals for the entire household. You already have these for dishwasher runs and clothes washer runs, but also compute total showers (<code>showers_all_week</code>) and total flushes (<code>flushes_all_week</code>)."
   ]
  },
  {
   "cell_type": "code",
   "execution_count": null,
   "metadata": {},
   "outputs": [],
   "source": [
    "# Your code goes here to input values for people, showers_person_week, flushes_person_day, dishes_all_week\n",
    "# and clothes_all_week. \n",
    "people = int (input(\"How many people are in the household?: \"))\n",
    "showers_person_week = int(input(\"On average, how many showers does each person take a week?: \"))\n",
    "flushes_person_day = int (input (\"On average, how many times does each person flush the toilet each day?: \"))\n",
    "dishes_all_week = int (input(\"How many times a week is the dishwasher run?: \"))\n",
    "clothes_all_week = int (input(\"How many times a week is the clothes washer run?: \"))\n",
    "# Now compute the values for showers_all_week (the total number of\n",
    "# showers taken in the household per week) and flushes_all_week (the total number of flushes\n",
    "# made in the household per week).\n",
    "showers_all_week = (showers_person_week * people)\n",
    "flushes_all_week = (flushes_person_day * people) * 7"
   ]
  },
  {
   "cell_type": "code",
   "execution_count": null,
   "metadata": {},
   "outputs": [],
   "source": [
    "# Code check block - don't change this cell.\n",
    "assert people > 0\n",
    "assert showers_person_week >= 0\n",
    "assert flushes_person_day >= 0\n",
    "assert dishes_all_week >= 0\n",
    "assert clothes_all_week >= 0\n",
    "assert showers_all_week >= 0\n",
    "assert flushes_all_week >= 0"
   ]
  },
  {
   "cell_type": "markdown",
   "metadata": {},
   "source": [
    "Now we'll summarize the user input by printing a line of the form\n",
    "\n",
    "\"Your household of <b>n</b> people takes a total of <b>ss</b> showers, flushes the toilet <b>fff</b> times,<br>and runs the dishwasher <b>d</b> times and the clothes washer <b>c</b> times, each week.\""
   ]
  },
  {
   "cell_type": "code",
   "execution_count": null,
   "metadata": {},
   "outputs": [],
   "source": [
    "# Don't change this cell.\n",
    "# What follows is one way to print out a line containing both text and the value of variables.\n",
    "# It uses the format() method of string. See Zelle 3rd ed. pp 154-156.\n",
    "s = \"Your household of {0} people takes a total of {1} showers, flushes the toilet {2} times,\\n\"\n",
    "s += \"and runs the dishwasher {3} times and the clothes washer {4} times, each week.\"\n",
    "print(s.format(people, showers_all_week, flushes_all_week, dishes_all_week, clothes_all_week))"
   ]
  },
  {
   "cell_type": "code",
   "execution_count": null,
   "metadata": {},
   "outputs": [],
   "source": [
    "# Don't change this cell.\n",
    "# Program data. Initial values are all set to an invalid value. You will be assigning values to these variables.\n",
    "total_cold_week = -1   # float - total gallons of cold water used, per week\n",
    "total_hot_week = -1    # float - total gallons of hot water used, per week"
   ]
  },
  {
   "cell_type": "markdown",
   "metadata": {},
   "source": [
    "Now let's make use of the following facts from <a href=\"https:water.usgs.gov/edu/activity-percapita.html\">http:water.usgs.gov/edu/qa-home-percapita.html</a> (just click on Submit your answers without supplying any):\n",
    "<ul>\n",
    "   <li>An average modern energy-saving shower uses 1.5 gallons of hot water per minute, and the average duration of a shower is 10 minutes. Assume that the shower also uses 0.5 gallons of cold water per minute, even though the government doesn't estimate that.\n",
    "   <li>An average flush of a modern toilet uses 1.6 gallons of cold water.\n",
    "   <li>An average run of a modern energy-saving dishwasher uses 6 gallons of hot water.\n",
    "   <li>An average run of a modern energy-saving clothes washer uses 25(!) gallons of hot water.\n",
    "</ul>\n",
    "Now compute total hot water usage (<code>total_hot_week</code>) and total cold water usage (<code>total_cold_week</code>) per week."
   ]
  },
  {
   "cell_type": "code",
   "execution_count": null,
   "metadata": {},
   "outputs": [],
   "source": [
    "# Your code to compute new values for total_hot_week and total_cold_week goes here.\n",
    "total_hot_week = (1.5*10*showers_all_week) + (dishes_all_week*6) + (clothes_all_week*25)\n",
    "total_cold_week = (0.5*10*showers_all_week) + (1.6*flushes_all_week)"
   ]
  },
  {
   "cell_type": "code",
   "execution_count": null,
   "metadata": {},
   "outputs": [],
   "source": [
    "# Code check block - don't change this cell.\n",
    "assert total_hot_week >= 0\n",
    "assert total_cold_week >= 0"
   ]
  },
  {
   "cell_type": "code",
   "execution_count": null,
   "metadata": {
    "scrolled": true
   },
   "outputs": [],
   "source": [
    "s = \"Your household of {0} people uses a total of {1} gallons of cold water, and {2} gallons of hot water, each week.\"\n",
    "print (s.format(people,total_cold_week,total_hot_week ))"
   ]
  },
  {
   "cell_type": "code",
   "execution_count": null,
   "metadata": {},
   "outputs": [],
   "source": [
    "# Don't change this cell.\n",
    "# Program data. Initial values are all set to an invalid value. You will be assigning values to these variables.\n",
    "total_water_year = -1         # float - total gallons of water used, per year\n",
    "total_electricity_year = -1   # float - total kWH used, per year, to heat hot water\n",
    "electric_cost_year = -1.0     # float - total $ for electricity, per year\n",
    "co2_year = -1                 # float - total carbon dioxide, in pounds, emitted by a coal-fired power plant"
   ]
  },
  {
   "cell_type": "markdown",
   "metadata": {},
   "source": [
    "Now let's factor in electricity usage, electricity costs and carbon dioxide creation.\n",
    "<ul>\n",
    "   <li>From <A href=\"http://www.freeby50.com/2008/12/what-does-it-cost-to-heat-gallon-of.html\">http://www.freeby50.com/2008/12/what-does-it-cost-to-heat-gallon-of.html</A>, we learn that a modern electric hot-water heater uses 0.166 thousand Watt-Hours (kWH) of electricity to heat a gallon of water.\n",
    "   <li>From <A href=\"https://www.maine.gov/mpuc/electricity/price_transparency/cmpgraph.shtml\">https://www.maine.gov/mpuc/electricity/price_transparency/cmpgraph.shtml</A>  we learn that Central Maine Power charges 12.89 cents per kWH of electricity.\n",
    "   <li>From the US EIA at <A href=\"https://www.eia.gov/tools/faqs/faq.php?id=74&t=11\">https://www.eia.gov/tools/faqs/faq.php?id=74&t=11</A> we learn that a coal-fired power plant emits 2.21 pounds of carbon dioxide into the atmosphere when it generates a kWH of electricity.\n",
    "</ul>\n",
    "Now, using the figure of 52.25 weeks per year, compute:\n",
    "<ol>\n",
    "   <li>total water usage (hot + cold) as the value of <code>total_water_year</code>\n",
    "   <li>total electricity usage (in kWH) to heat the hot water as the value of <code>total_electricity_year</code>\n",
    "   <li>total cost of the electricity as the value of <code>electric_cost_year</code>\n",
    "   <li>total pounds of carbon dioxide as the value of <code>co2_year</code>\n",
    "</ol>"
   ]
  },
  {
   "cell_type": "code",
   "execution_count": null,
   "metadata": {},
   "outputs": [],
   "source": [
    "# Your code to compute total_water_year, total_electricity_year, electric_cost_year and\n",
    "# co2_year goes here.\n",
    "total_water_year = (total_hot_week + total_cold_week)*52.25\n",
    "total_electricity_year = (total_hot_week*52.25)*0.166\n",
    "electric_cost_year = total_electricity_year*0.1289\n",
    "co2_year = (total_electricity_year*2.21)"
   ]
  },
  {
   "cell_type": "code",
   "execution_count": null,
   "metadata": {},
   "outputs": [],
   "source": [
    "# Code check block - don't change this cell.\n",
    "assert total_water_year and total_water_year >= 0\n",
    "assert total_electricity_year and total_electricity_year >= 0\n",
    "assert electric_cost_year and electric_cost_year >= 0\n",
    "assert co2_year and co2_year >= 0"
   ]
  },
  {
   "cell_type": "markdown",
   "metadata": {},
   "source": [
    "And finally we'll print a summary of the form:\n",
    "\n",
    "Your household uses <b>xxxxx</b> gallons of water a year.<BR>It costs you <b>$yyy.yy</b> per year for the electricity to heat hot water.<BR>You cause the emission of <b>zzzz</b> pounds of carbon dioxide per year."
   ]
  },
  {
   "cell_type": "code",
   "execution_count": null,
   "metadata": {},
   "outputs": [],
   "source": [
    "# Don't change this cell.\n",
    "s = \"Your household uses {0:,.0f} gallons of water a year.\\n\"\n",
    "s += \"It costs you ${1:.2f} per year for the electricity to heat hot water.\\n\"\n",
    "s += \"You cause the emission of {2:.0f} pounds of carbon dioxide per year.\"\n",
    "print(s.format(total_water_year, electric_cost_year, co2_year))"
   ]
  },
  {
   "cell_type": "markdown",
   "metadata": {},
   "source": [
    "As a bonus, let's make a pie chart of the various proportions of water usage. First, we calculate the yearly totals for showers, flushes, dishwasher runs and clothes washer runs."
   ]
  },
  {
   "cell_type": "code",
   "execution_count": null,
   "metadata": {},
   "outputs": [],
   "source": [
    "# Don't change this cell.\n",
    "total_shower_water_year = 0      # float - total hot and cold water used for showers, per year\n",
    "total_toilet_water_year = 0      # float - total cold water used for flushes, per year\n",
    "total_dishwasher_water_year = 0  # float - total hot water used for dishes, per year\n",
    "total_clothes_water_year = 0     # float - total hot water used for clothes, per year"
   ]
  },
  {
   "cell_type": "code",
   "execution_count": null,
   "metadata": {},
   "outputs": [],
   "source": [
    "# Your code goes here to compute values for total_shower_water_year, total_toilet_water_year, \n",
    "# total_dishwasher_water_year and total_clothes_water_year. You have already computed the corresponding values,\n",
    "# per week. Use 52.25 for the number of weeks in a year.\n",
    "total_shower_water_year = (((1.5 + 0.5)*10)*showers_all_week)*52.25\n",
    "total_toilet_water_year = (1.6 * flushes_all_week)*52.25\n",
    "total_dishwasher_water_year = (6*dishes_all_week)*52.25\n",
    "total_clothes_water_year = (25*clothes_all_week)*52.25"
   ]
  },
  {
   "cell_type": "code",
   "execution_count": null,
   "metadata": {
    "scrolled": true
   },
   "outputs": [],
   "source": [
    "# Don't change this cell.\n",
    "# The list sizes contains four values, each a fraction of total water used. This is a number from 0 to 1.\n",
    "# The first value is for showers; then, for toilet flushes, the dishwasher and the clothes washer.\n",
    "sizes = [total_shower_water_year/total_water_year, total_toilet_water_year/total_water_year,\n",
    "         total_dishwasher_water_year/total_water_year, total_clothes_water_year/total_water_year]\n",
    "%matplotlib inline\n",
    "import matplotlib.pyplot as plt\n",
    "labels = ['showers', 'flushing', 'dishwasher', 'clothes washer']\n",
    "_, ax1 = plt.subplots()  # we're just interested in the second element of what subplots() returns\n",
    "ax1.pie(sizes, labels=labels, autopct='%1.0f%%')\n",
    "ax1.axis('equal')  # makes the pie chart circular\n",
    "plt.show()"
   ]
  },
  {
   "cell_type": "code",
   "execution_count": null,
   "metadata": {},
   "outputs": [],
   "source": []
  },
  {
   "cell_type": "markdown",
   "metadata": {},
   "source": [
    "### Extra credit (5 points)\n",
    "Your household uses quite a bit of electricity to heat all of that hot water. Let's plot another pie chart showing where the electricity goes. The cell below is a copy of the cell above, except that you'll have to change the assignment to <code>sizes</code> and to <code>labels</code>. While you're at it, change the comments too. Make sure that the <code>sizes</code>list has the same order as the <code>labels</code> list. You already know the total electricity used per year: it's the value of the variable <code>total_electricity_year</code> that you computed earlier. Hint: you also know <code>total_dishwasher_water_year</code> and it's all hot, and <code>total_clothes_water_year</code> and it's all hot, and you can convert them to electricity by multiplying by 0.166. You know <code>total_shower_water_year</code> and you know that 3/4 of it is hot. "
   ]
  },
  {
   "cell_type": "code",
   "execution_count": null,
   "metadata": {},
   "outputs": [],
   "source": [
    "# The list sizes contains three values, each a fraction of total electricity used. This is a number from 0 to 1.\n",
    "# The first value is for showers; then, for the dishwasher and the clothes washer. Note that all the fractions must\n",
    "# add up to 1.0.\n",
    "total_hot_shower_water_year = total_shower_water_year * (3/4)\n",
    "sizes = [(total_dishwasher_water_year*0.166)/total_electricity_year,(total_clothes_water_year*0.166)/total_electricity_year,\n",
    "         (total_hot_shower_water_year*0.166)/total_electricity_year]\n",
    "labels = ['dishwasher' , 'clothes', 'shower']\n",
    "_, ax1 = plt.subplots()  # we're just interested in the second element of what subplots() returns\n",
    "ax1.pie(sizes, labels=labels, autopct='%1.0f%%')\n",
    "ax1.axis('equal')  # makes the pie chart circular\n",
    "plt.show()"
   ]
  },
  {
   "cell_type": "code",
   "execution_count": null,
   "metadata": {},
   "outputs": [],
   "source": []
  }
 ],
 "metadata": {
  "kernelspec": {
   "display_name": "Python 3",
   "language": "python",
   "name": "python3"
  },
  "language_info": {
   "codemirror_mode": {
    "name": "ipython",
    "version": 3
   },
   "file_extension": ".py",
   "mimetype": "text/x-python",
   "name": "python",
   "nbconvert_exporter": "python",
   "pygments_lexer": "ipython3",
   "version": "3.8.5"
  }
 },
 "nbformat": 4,
 "nbformat_minor": 1
}
